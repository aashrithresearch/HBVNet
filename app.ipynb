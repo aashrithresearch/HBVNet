{
  "nbformat": 4,
  "nbformat_minor": 0,
  "metadata": {
    "colab": {
      "provenance": []
    },
    "kernelspec": {
      "name": "python3",
      "display_name": "Python 3"
    },
    "language_info": {
      "name": "python"
    }
  },
  "cells": [
    {
      "cell_type": "code",
      "execution_count": null,
      "metadata": {
        "id": "2jfcN5adWXja"
      },
      "outputs": [],
      "source": [
        "from google.colab import files\n",
        "files.upload()"
      ]
    },
    {
      "cell_type": "code",
      "source": [
        "import gradio as gr\n",
        "import pandas as pd\n",
        "import numpy as np\n",
        "import joblib"
      ],
      "metadata": {
        "id": "Dhvegs17WaPw"
      },
      "execution_count": 3,
      "outputs": []
    },
    {
      "cell_type": "code",
      "source": [
        "MODEL_PATH = \"xgb_minimal_signature.pkl\"\n",
        "GENES_PATH = \"minimal_signature_genes.pkl\"\n",
        "MEANS_PATH = \"minimal_signature_means.pkl\""
      ],
      "metadata": {
        "id": "PnF5M-Z2Wib4"
      },
      "execution_count": 4,
      "outputs": []
    },
    {
      "cell_type": "code",
      "source": [
        "xgb_model = joblib.load(MODEL_PATH)\n",
        "minimal_genes = list(joblib.load(GENES_PATH))"
      ],
      "metadata": {
        "id": "2vGGc0vRWy6W"
      },
      "execution_count": 5,
      "outputs": []
    },
    {
      "cell_type": "code",
      "source": [
        "means_series = joblib.load(MEANS_PATH)\n",
        "if not isinstance(means_series, pd.Series):\n",
        "    means_series = pd.Series(means_series, index=minimal_genes, dtype=float)\n",
        "means_series = means_series.reindex(minimal_genes).fillna(1.0)"
      ],
      "metadata": {
        "id": "LFetrTmKW1Dj"
      },
      "execution_count": 6,
      "outputs": []
    },
    {
      "cell_type": "code",
      "source": [
        "try:\n",
        "    model_feature_names = xgb_model.get_booster().feature_names\n",
        "    if model_feature_names is None:\n",
        "        model_feature_names = minimal_genes\n",
        "except Exception:\n",
        "    model_feature_names = minimal_genes"
      ],
      "metadata": {
        "id": "qR59zn_NW22f"
      },
      "execution_count": 7,
      "outputs": []
    },
    {
      "cell_type": "code",
      "source": [
        "def predict_from_list(*vals):\n",
        "    try:\n",
        "        vals = [np.nan if v is None else float(v) for v in vals]\n",
        "        input_df = pd.DataFrame([dict(zip(minimal_genes, vals))])\n",
        "        input_df = input_df.reindex(columns=model_feature_names)\n",
        "        input_df = input_df.fillna(means_series.reindex(model_feature_names))\n",
        "        input_df = input_df.astype(float)\n",
        "\n",
        "        prob = float(xgb_model.predict_proba(input_df)[:, 1][0])\n",
        "        label = \"HBV-induced HCC\" if prob >= 0.5 else \"Non-viral HCC\"\n",
        "        return prob, label\n",
        "    except Exception as e:\n",
        "        return 0.0, f\"Error: {str(e)}\""
      ],
      "metadata": {
        "id": "KNOh8XQxW49U"
      },
      "execution_count": 8,
      "outputs": []
    },
    {
      "cell_type": "code",
      "source": [
        "inputs = [\n",
        "    gr.Number(label=gene, value=float(means_series.get(gene, 1.0)), precision=4)\n",
        "    for gene in minimal_genes\n",
        "]\n",
        "\n",
        "iface = gr.Interface(\n",
        "    fn=predict_from_list,\n",
        "    inputs=inputs,\n",
        "    outputs=[\n",
        "        gr.Number(label=\"Predicted Probability\"),\n",
        "        gr.Textbox(label=\"Prediction\"),\n",
        "    ],\n",
        "    title=\"HBV vs Non-Viral HCC Classifier (Minimal Gene Signature)\",\n",
        "    description=\"Provide expression values for the minimal gene signature. Pre-filled with cohort means for convenience.\"\n",
        ")\n",
        "\n",
        "if __name__ == \"__main__\":\n",
        "    iface.launch()"
      ],
      "metadata": {
        "colab": {
          "base_uri": "https://localhost:8080/",
          "height": 645
        },
        "id": "h46j8WRVW7OH",
        "outputId": "067ee686-cb58-4830-f22c-3e2be1bf1974"
      },
      "execution_count": 9,
      "outputs": [
        {
          "output_type": "stream",
          "name": "stdout",
          "text": [
            "It looks like you are running Gradio on a hosted Jupyter notebook, which requires `share=True`. Automatically setting `share=True` (you can turn this off by setting `share=False` in `launch()` explicitly).\n",
            "\n",
            "Colab notebook detected. To show errors in colab notebook, set debug=True in launch()\n",
            "* Running on public URL: https://afc16d60864008f0ff.gradio.live\n",
            "\n",
            "This share link expires in 1 week. For free permanent hosting and GPU upgrades, run `gradio deploy` from the terminal in the working directory to deploy to Hugging Face Spaces (https://huggingface.co/spaces)\n"
          ]
        },
        {
          "output_type": "display_data",
          "data": {
            "text/plain": [
              "<IPython.core.display.HTML object>"
            ],
            "text/html": [
              "<div><iframe src=\"https://afc16d60864008f0ff.gradio.live\" width=\"100%\" height=\"500\" allow=\"autoplay; camera; microphone; clipboard-read; clipboard-write;\" frameborder=\"0\" allowfullscreen></iframe></div>"
            ]
          },
          "metadata": {}
        }
      ]
    },
    {
      "cell_type": "code",
      "source": [],
      "metadata": {
        "id": "rW9mBUeCW-ij"
      },
      "execution_count": null,
      "outputs": []
    }
  ]
}